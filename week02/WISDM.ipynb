{
  "nbformat": 4,
  "nbformat_minor": 0,
  "metadata": {
    "colab": {
      "provenance": [],
      "gpuType": "T4"
    },
    "kernelspec": {
      "name": "python3",
      "display_name": "Python 3"
    },
    "language_info": {
      "name": "python"
    },
    "accelerator": "GPU"
  },
  "cells": [
    {
      "cell_type": "code",
      "source": [
        "# ===============================================================\n",
        "# WISDM v1.1 raw -> 1D CNN 분류 (PyTorch, Colab)\n",
        "# - 입력 파일: /content/WISDM_ar_v1.1_raw.txt\n",
        "# - 시계열 창 자르기(windowing) + 사용자 단위 분할(user-wise)\n",
        "# - 표준화는 train 기준으로만 fit\n",
        "# ===============================================================\n",
        "\n",
        "import os, io, random, re, math, time\n",
        "import numpy as np\n",
        "import pandas as pd\n",
        "import matplotlib.pyplot as plt\n",
        "import seaborn as sns\n",
        "\n",
        "from sklearn.preprocessing import StandardScaler, LabelEncoder\n",
        "from sklearn.metrics import classification_report, confusion_matrix\n",
        "\n",
        "import torch\n",
        "import torch.nn as nn\n",
        "import torch.optim as optim\n",
        "from torch.utils.data import Dataset, DataLoader\n",
        "\n",
        "from tqdm import tqdm"
      ],
      "metadata": {
        "id": "rtkC_2HWNZP5"
      },
      "execution_count": 5,
      "outputs": []
    },
    {
      "cell_type": "code",
      "source": [
        "# ----------------------------\n",
        "# 0) 환경 설정\n",
        "# ----------------------------\n",
        "SEED = 42\n",
        "random.seed(SEED); np.random.seed(SEED)\n",
        "torch.manual_seed(SEED); torch.cuda.manual_seed_all(SEED)\n",
        "DEVICE = torch.device(\"cuda\" if torch.cuda.is_available() else \"cpu\")\n",
        "DATA_PATH = \"/content/drive/MyDrive/Colab Notebooks/WISDM_ar_v1.1/WISDM_ar_v1.1_raw.txt\"  # 코랩에 저장된 경로"
      ],
      "metadata": {
        "id": "z0KQgBknNeYL"
      },
      "execution_count": 10,
      "outputs": []
    },
    {
      "cell_type": "code",
      "source": [
        "# 윈도우 관련 하이퍼파라미터\n",
        "WINDOW_SIZE = 200          # 시계열 길이(가속도 샘플 개수)\n",
        "STEP_SIZE = 100            # 50% overlap\n",
        "MIN_SAMPLES_PER_ACTIVITY = WINDOW_SIZE"
      ],
      "metadata": {
        "id": "cFsIQ7CnNeVe"
      },
      "execution_count": 11,
      "outputs": []
    },
    {
      "cell_type": "code",
      "source": [
        "# 학습 관련 하이퍼파라미터\n",
        "BATCH_SIZE = 256\n",
        "EPOCHS = 12\n",
        "LR = 1e-3\n",
        "WEIGHT_DECAY = 1e-4\n",
        "DROPOUT = 0.3\n"
      ],
      "metadata": {
        "id": "EP69fZTLNeRB"
      },
      "execution_count": 12,
      "outputs": []
    },
    {
      "cell_type": "code",
      "source": [
        "# ----------------------------\n",
        "# 1) 데이터 파서\n",
        "# ----------------------------\n",
        "def parse_wisdm_line(line: str):\n",
        "    \"\"\"\n",
        "    예시 라인: \"244,Jogging,2672280966,0.5,0.1,9.8;\"\n",
        "    일부 라인은 공백/세미콜론 포함, 불완전 라인도 있으므로 방어적 파싱.\n",
        "    반환: (user:int, activity:str, ts:int, x:float, y:float, z:float) 또는 None\n",
        "    \"\"\"\n",
        "    line = line.strip()\n",
        "    if not line:\n",
        "        return None\n",
        "    line = line.replace(\";\", \"\")\n",
        "    parts = [p.strip() for p in line.split(\",\")]\n",
        "    if len(parts) != 6:\n",
        "        return None\n",
        "    try:\n",
        "        user = int(parts[0])\n",
        "        activity = parts[1]\n",
        "        ts = int(parts[2])\n",
        "        x, y, z = float(parts[3]), float(parts[4]), float(parts[5])\n",
        "        return (user, activity, ts, x, y, z)\n",
        "    except:\n",
        "        return None\n",
        "\n",
        "def load_wisdm_raw(path: str) -> pd.DataFrame:\n",
        "    rows = []\n",
        "    with io.open(path, \"r\", encoding=\"utf-8\", errors=\"ignore\") as f:\n",
        "        for line in f:\n",
        "            rec = parse_wisdm_line(line)\n",
        "            if rec is not None:\n",
        "                rows.append(rec)\n",
        "    if not rows:\n",
        "        raise ValueError(\"유효한 레코드를 찾지 못했습니다. 파일 경로나 포맷을 확인하세요.\")\n",
        "    df = pd.DataFrame(rows, columns=[\"user\", \"activity\", \"timestamp\", \"x\", \"y\", \"z\"])\n",
        "    df = df.sort_values([\"user\", \"timestamp\"]).reset_index(drop=True)\n",
        "    return df\n",
        "\n",
        "df = load_wisdm_raw(DATA_PATH)\n",
        "print(\"원시 레코드 수:\", len(df))\n",
        "print(\"사용자 수:\", df[\"user\"].nunique())\n",
        "print(\"활동 라벨:\", df[\"activity\"].unique())\n"
      ],
      "metadata": {
        "colab": {
          "base_uri": "https://localhost:8080/"
        },
        "id": "yNBm8jRyNeLc",
        "outputId": "c655b22f-35d4-4833-ff1a-1fde975073df"
      },
      "execution_count": 13,
      "outputs": [
        {
          "output_type": "stream",
          "name": "stdout",
          "text": [
            "원시 레코드 수: 1086465\n",
            "사용자 수: 36\n",
            "활동 라벨: ['Walking' 'Jogging' 'Upstairs' 'Downstairs' 'Sitting' 'Standing']\n"
          ]
        }
      ]
    },
    {
      "cell_type": "code",
      "source": [
        "# ----------------------------\n",
        "# 2) 사용자 단위 분할(user-wise)\n",
        "# ----------------------------\n",
        "users = sorted(df[\"user\"].unique())\n",
        "random.shuffle(users)\n",
        "\n",
        "# 70/10/20 비율로 분할 (사용자 기준)\n",
        "n = len(users)\n",
        "n_train = int(n * 0.7)\n",
        "n_val = int(n * 0.1)\n",
        "train_users = set(users[:n_train])\n",
        "val_users   = set(users[n_train:n_train+n_val])\n",
        "test_users  = set(users[n_train+n_val:])\n",
        "\n",
        "df_train = df[df[\"user\"].isin(train_users)].copy()\n",
        "df_val   = df[df[\"user\"].isin(val_users)].copy()\n",
        "df_test  = df[df[\"user\"].isin(test_users)].copy()\n",
        "\n",
        "print(f\"train users: {len(train_users)}, val users: {len(val_users)}, test users: {len(test_users)}\")\n"
      ],
      "metadata": {
        "colab": {
          "base_uri": "https://localhost:8080/"
        },
        "id": "CVPs_cJrNeEL",
        "outputId": "b88cce74-9248-4e8d-c9d4-57366a750956"
      },
      "execution_count": 14,
      "outputs": [
        {
          "output_type": "stream",
          "name": "stdout",
          "text": [
            "train users: 25, val users: 3, test users: 8\n"
          ]
        }
      ]
    },
    {
      "cell_type": "code",
      "source": [
        "# ----------------------------\n",
        "# 3) 활동 라벨 인코딩\n",
        "# ----------------------------\n",
        "le = LabelEncoder()\n",
        "le.fit(df_train[\"activity\"])  # train 기준으로만 fit\n",
        "df_train[\"label\"] = le.transform(df_train[\"activity\"])\n",
        "# validation/test에 train에 없던 라벨이 있으면 제외\n",
        "df_val = df_val[df_val[\"activity\"].isin(le.classes_)].copy()\n",
        "df_test = df_test[df_test[\"activity\"].isin(le.classes_)].copy()\n",
        "df_val[\"label\"] = le.transform(df_val[\"activity\"])\n",
        "df_test[\"label\"] = le.transform(df_test[\"activity\"])\n",
        "\n",
        "num_classes = len(le.classes_)\n",
        "print(\"클래스 수:\", num_classes, \"=>\", list(le.classes_))"
      ],
      "metadata": {
        "colab": {
          "base_uri": "https://localhost:8080/"
        },
        "id": "wfNMBK4rN8xv",
        "outputId": "3c3e7127-d90f-4c5e-a598-fcdbeb8c446d"
      },
      "execution_count": 15,
      "outputs": [
        {
          "output_type": "stream",
          "name": "stdout",
          "text": [
            "클래스 수: 6 => ['Downstairs', 'Jogging', 'Sitting', 'Standing', 'Upstairs', 'Walking']\n"
          ]
        }
      ]
    },
    {
      "cell_type": "code",
      "source": [
        "# ----------------------------\n",
        "# 4) 사용자·라벨별로 슬라이딩 윈도우 생성\n",
        "# ----------------------------\n",
        "def make_windows_userwise(df_part: pd.DataFrame, window_size=WINDOW_SIZE, step=STEP_SIZE):\n",
        "    \"\"\"\n",
        "    같은 사용자, 같은 activity 내에서 시간 순으로 window를 생성.\n",
        "    출력 X: (N, 3, window_size), y: (N,), users: (N,)\n",
        "    \"\"\"\n",
        "    X_list, y_list, u_list = [], [], []\n",
        "    for user_id in df_part[\"user\"].unique():\n",
        "        df_u = df_part[df_part[\"user\"] == user_id]\n",
        "        for label_id in df_u[\"label\"].unique():\n",
        "            df_ul = df_u[df_u[\"label\"] == label_id].sort_values(\"timestamp\")\n",
        "            if len(df_ul) < window_size:\n",
        "                continue\n",
        "            arr = df_ul[[\"x\", \"y\", \"z\"]].values  # (T, 3)\n",
        "            # 슬라이싱 인덱스\n",
        "            for start in range(0, len(arr) - window_size + 1, step):\n",
        "                seg = arr[start:start+window_size]  # (window_size, 3)\n",
        "                X_list.append(seg.T)  # (3, window_size)\n",
        "                y_list.append(label_id)\n",
        "                u_list.append(user_id)\n",
        "    if not X_list:\n",
        "        return np.empty((0,3,window_size), dtype=np.float32), np.empty((0,), dtype=np.int64), []\n",
        "    X = np.stack(X_list).astype(np.float32)\n",
        "    y = np.array(y_list, dtype=np.int64)\n",
        "    return X, y, u_list\n",
        "\n",
        "X_train, y_train, users_train = make_windows_userwise(df_train)\n",
        "X_val,   y_val,   users_val   = make_windows_userwise(df_val)\n",
        "X_test,  y_test,  users_test  = make_windows_userwise(df_test)\n",
        "\n",
        "print(\"윈도우 샘플 수:\",\n",
        "      \"train\", X_train.shape, \"val\", X_val.shape, \"test\", X_test.shape)"
      ],
      "metadata": {
        "colab": {
          "base_uri": "https://localhost:8080/"
        },
        "id": "n-OG3E-mN-6q",
        "outputId": "59868b66-3b4e-4581-adc6-481fde4861f5"
      },
      "execution_count": 16,
      "outputs": [
        {
          "output_type": "stream",
          "name": "stdout",
          "text": [
            "윈도우 샘플 수: train (7723, 3, 200) val (813, 3, 200) test (2055, 3, 200)\n"
          ]
        }
      ]
    },
    {
      "cell_type": "code",
      "source": [
        "# ----------------------------\n",
        "# 5) 표준화 (train 기준으로만 fit)\n",
        "# ----------------------------\n",
        "# 채널별(x,y,z)로 표준화하기 위해 (N, 3, T)를 (N*T, 3)로 reshape 후 scaler 적용\n",
        "def fit_scaler_on_train(X):\n",
        "    N, C, T = X.shape\n",
        "    scaler = StandardScaler()\n",
        "    X_2d = X.transpose(0,2,1).reshape(-1, C)   # (N*T, 3)\n",
        "    scaler.fit(X_2d)\n",
        "    return scaler\n",
        "\n",
        "def transform_with_scaler(X, scaler):\n",
        "    if X.size == 0:\n",
        "        return X\n",
        "    N, C, T = X.shape\n",
        "    X_2d = X.transpose(0,2,1).reshape(-1, C)\n",
        "    X_2d = scaler.transform(X_2d)\n",
        "    return X_2d.reshape(N, T, C).transpose(0,2,1).astype(np.float32)\n",
        "\n",
        "scaler = fit_scaler_on_train(X_train)\n",
        "X_train = transform_with_scaler(X_train, scaler)\n",
        "X_val   = transform_with_scaler(X_val, scaler)\n",
        "X_test  = transform_with_scaler(X_test, scaler)"
      ],
      "metadata": {
        "id": "y7JY3_E8OB7r"
      },
      "execution_count": 17,
      "outputs": []
    },
    {
      "cell_type": "code",
      "source": [
        "# ----------------------------\n",
        "# 6) PyTorch Dataset / DataLoader\n",
        "# ----------------------------\n",
        "class WISDMDataset(Dataset):\n",
        "    def __init__(self, X, y):\n",
        "        self.X = torch.from_numpy(X)  # (N, 3, T)\n",
        "        self.y = torch.from_numpy(y)  # (N,)\n",
        "    def __len__(self): return self.X.shape[0]\n",
        "    def __getitem__(self, idx):\n",
        "        return self.X[idx], self.y[idx]\n",
        "\n",
        "train_ds = WISDMDataset(X_train, y_train)\n",
        "val_ds   = WISDMDataset(X_val, y_val)\n",
        "test_ds  = WISDMDataset(X_test, y_test)\n",
        "\n",
        "train_loader = DataLoader(train_ds, batch_size=BATCH_SIZE, shuffle=True, num_workers=2, pin_memory=True)\n",
        "val_loader   = DataLoader(val_ds, batch_size=BATCH_SIZE, shuffle=False, num_workers=2, pin_memory=True)\n",
        "test_loader  = DataLoader(test_ds, batch_size=BATCH_SIZE, shuffle=False, num_workers=2, pin_memory=True)\n"
      ],
      "metadata": {
        "id": "eTQYf3vTOEH2"
      },
      "execution_count": 18,
      "outputs": []
    },
    {
      "cell_type": "code",
      "source": [
        "# ----------------------------\n",
        "# 7) 1D CNN 모델 정의\n",
        "# ----------------------------\n",
        "class CNN1D(nn.Module):\n",
        "    def __init__(self, in_ch=3, n_classes=6, dropout=DROPOUT):\n",
        "        super().__init__()\n",
        "        self.features = nn.Sequential(\n",
        "            nn.Conv1d(in_ch, 64, kernel_size=5, padding=2),\n",
        "            nn.BatchNorm1d(64),\n",
        "            nn.ReLU(inplace=True),\n",
        "            nn.MaxPool1d(2),\n",
        "\n",
        "            nn.Conv1d(64, 128, kernel_size=5, padding=2),\n",
        "            nn.BatchNorm1d(128),\n",
        "            nn.ReLU(inplace=True),\n",
        "            nn.MaxPool1d(2),\n",
        "\n",
        "            nn.Conv1d(128, 256, kernel_size=3, padding=1),\n",
        "            nn.BatchNorm1d(256),\n",
        "            nn.ReLU(inplace=True),\n",
        "            nn.Dropout(dropout),\n",
        "        )\n",
        "        self.gap = nn.AdaptiveAvgPool1d(1)  # (B, C, 1)\n",
        "        self.classifier = nn.Sequential(\n",
        "            nn.Flatten(),\n",
        "            nn.Linear(256, 128),\n",
        "            nn.ReLU(inplace=True),\n",
        "            nn.Dropout(dropout),\n",
        "            nn.Linear(128, n_classes),\n",
        "        )\n",
        "    def forward(self, x):           # x: (B, 3, T)\n",
        "        h = self.features(x)        # (B, 256, T')\n",
        "        h = self.gap(h)             # (B, 256, 1)\n",
        "        logits = self.classifier(h) # (B, n_classes)\n",
        "        return logits\n",
        "\n",
        "model = CNN1D(in_ch=3, n_classes=num_classes).to(DEVICE)\n",
        "criterion = nn.CrossEntropyLoss()\n",
        "optimizer = optim.AdamW(model.parameters(), lr=LR, weight_decay=WEIGHT_DECAY)"
      ],
      "metadata": {
        "id": "TMwJRnWJOGTR"
      },
      "execution_count": 19,
      "outputs": []
    },
    {
      "cell_type": "code",
      "source": [
        "# ----------------------------\n",
        "# 8) 학습/검증 루프\n",
        "# ----------------------------\n",
        "def evaluate(dloader):\n",
        "    model.eval()\n",
        "    loss_sum, n, correct = 0.0, 0, 0\n",
        "    all_preds, all_targets = [], []\n",
        "    with torch.no_grad():\n",
        "        for Xb, yb in dloader:\n",
        "            Xb, yb = Xb.to(DEVICE), yb.to(DEVICE)\n",
        "            out = model(Xb)\n",
        "            loss = criterion(out, yb)\n",
        "            loss_sum += loss.item() * Xb.size(0)\n",
        "            preds = out.argmax(1)\n",
        "            correct += (preds == yb).sum().item()\n",
        "            n += Xb.size(0)\n",
        "            all_preds.append(preds.cpu().numpy())\n",
        "            all_targets.append(yb.cpu().numpy())\n",
        "    avg_loss = loss_sum / max(1, n)\n",
        "    acc = correct / max(1, n)\n",
        "    return avg_loss, acc, np.concatenate(all_targets), np.concatenate(all_preds)\n",
        "\n",
        "best_val_acc, best_state = 0.0, None\n",
        "for epoch in range(1, EPOCHS+1):\n",
        "    model.train()\n",
        "    pbar = tqdm(train_loader, desc=f\"Epoch {epoch}/{EPOCHS} [train]\")\n",
        "    running = 0.0; seen = 0\n",
        "    for Xb, yb in pbar:\n",
        "        Xb, yb = Xb.to(DEVICE), yb.to(DEVICE)\n",
        "        optimizer.zero_grad()\n",
        "        out = model(Xb)\n",
        "        loss = criterion(out, yb)\n",
        "        loss.backward()\n",
        "        optimizer.step()\n",
        "        running += loss.item() * Xb.size(0)\n",
        "        seen += Xb.size(0)\n",
        "        pbar.set_postfix(loss=f\"{running/max(1,seen):.4f}\")\n",
        "    val_loss, val_acc, _, _ = evaluate(val_loader)\n",
        "    print(f\"  -> val_loss: {val_loss:.4f} | val_acc: {val_acc:.4f}\")\n",
        "\n",
        "    if val_acc > best_val_acc:\n",
        "        best_val_acc = val_acc\n",
        "        best_state = {k: v.cpu().clone() for k, v in model.state_dict().items()}\n",
        "\n",
        "# best 모델 로드\n",
        "if best_state is not None:\n",
        "    model.load_state_dict(best_state)\n",
        "    model.to(DEVICE)"
      ],
      "metadata": {
        "colab": {
          "base_uri": "https://localhost:8080/"
        },
        "id": "F581nNkhOJb3",
        "outputId": "da8e28b6-ff52-4ab4-e6d3-d25772a1a689"
      },
      "execution_count": 20,
      "outputs": [
        {
          "output_type": "stream",
          "name": "stderr",
          "text": [
            "Epoch 1/12 [train]: 100%|██████████| 31/31 [00:00<00:00, 48.07it/s, loss=0.7977]\n"
          ]
        },
        {
          "output_type": "stream",
          "name": "stdout",
          "text": [
            "  -> val_loss: 2.2164 | val_acc: 0.5818\n"
          ]
        },
        {
          "output_type": "stream",
          "name": "stderr",
          "text": [
            "Epoch 2/12 [train]: 100%|██████████| 31/31 [00:00<00:00, 44.31it/s, loss=0.3299]\n"
          ]
        },
        {
          "output_type": "stream",
          "name": "stdout",
          "text": [
            "  -> val_loss: 1.5573 | val_acc: 0.6335\n"
          ]
        },
        {
          "output_type": "stream",
          "name": "stderr",
          "text": [
            "Epoch 3/12 [train]: 100%|██████████| 31/31 [00:00<00:00, 55.75it/s, loss=0.1873]\n"
          ]
        },
        {
          "output_type": "stream",
          "name": "stdout",
          "text": [
            "  -> val_loss: 1.1633 | val_acc: 0.6113\n"
          ]
        },
        {
          "output_type": "stream",
          "name": "stderr",
          "text": [
            "Epoch 4/12 [train]: 100%|██████████| 31/31 [00:00<00:00, 72.51it/s, loss=0.1288]\n"
          ]
        },
        {
          "output_type": "stream",
          "name": "stdout",
          "text": [
            "  -> val_loss: 0.9957 | val_acc: 0.7724\n"
          ]
        },
        {
          "output_type": "stream",
          "name": "stderr",
          "text": [
            "Epoch 5/12 [train]: 100%|██████████| 31/31 [00:00<00:00, 69.50it/s, loss=0.0827]\n"
          ]
        },
        {
          "output_type": "stream",
          "name": "stdout",
          "text": [
            "  -> val_loss: 1.0943 | val_acc: 0.7294\n"
          ]
        },
        {
          "output_type": "stream",
          "name": "stderr",
          "text": [
            "Epoch 6/12 [train]: 100%|██████████| 31/31 [00:00<00:00, 70.54it/s, loss=0.0823]\n"
          ]
        },
        {
          "output_type": "stream",
          "name": "stdout",
          "text": [
            "  -> val_loss: 1.3057 | val_acc: 0.6679\n"
          ]
        },
        {
          "output_type": "stream",
          "name": "stderr",
          "text": [
            "Epoch 7/12 [train]: 100%|██████████| 31/31 [00:00<00:00, 72.61it/s, loss=0.0779]\n"
          ]
        },
        {
          "output_type": "stream",
          "name": "stdout",
          "text": [
            "  -> val_loss: 2.0505 | val_acc: 0.6654\n"
          ]
        },
        {
          "output_type": "stream",
          "name": "stderr",
          "text": [
            "Epoch 8/12 [train]: 100%|██████████| 31/31 [00:00<00:00, 69.69it/s, loss=0.0487]\n"
          ]
        },
        {
          "output_type": "stream",
          "name": "stdout",
          "text": [
            "  -> val_loss: 1.7916 | val_acc: 0.5695\n"
          ]
        },
        {
          "output_type": "stream",
          "name": "stderr",
          "text": [
            "Epoch 9/12 [train]: 100%|██████████| 31/31 [00:00<00:00, 70.89it/s, loss=0.0355]\n"
          ]
        },
        {
          "output_type": "stream",
          "name": "stdout",
          "text": [
            "  -> val_loss: 1.8767 | val_acc: 0.6236\n"
          ]
        },
        {
          "output_type": "stream",
          "name": "stderr",
          "text": [
            "Epoch 10/12 [train]: 100%|██████████| 31/31 [00:00<00:00, 71.26it/s, loss=0.0257]\n"
          ]
        },
        {
          "output_type": "stream",
          "name": "stdout",
          "text": [
            "  -> val_loss: 1.3722 | val_acc: 0.6433\n"
          ]
        },
        {
          "output_type": "stream",
          "name": "stderr",
          "text": [
            "Epoch 11/12 [train]: 100%|██████████| 31/31 [00:00<00:00, 70.20it/s, loss=0.0249]\n"
          ]
        },
        {
          "output_type": "stream",
          "name": "stdout",
          "text": [
            "  -> val_loss: 1.4703 | val_acc: 0.6654\n"
          ]
        },
        {
          "output_type": "stream",
          "name": "stderr",
          "text": [
            "Epoch 12/12 [train]: 100%|██████████| 31/31 [00:00<00:00, 69.34it/s, loss=0.0240]\n"
          ]
        },
        {
          "output_type": "stream",
          "name": "stdout",
          "text": [
            "  -> val_loss: 2.4056 | val_acc: 0.6322\n"
          ]
        }
      ]
    },
    {
      "cell_type": "code",
      "source": [
        "# ----------------------------\n",
        "# 9) 테스트 평가\n",
        "# ----------------------------\n",
        "test_loss, test_acc, y_true, y_pred = evaluate(test_loader)\n",
        "print(f\"[TEST] loss: {test_loss:.4f} | acc: {test_acc:.4f}\")\n",
        "\n",
        "print(\"\\n[Classification Report]\")\n",
        "print(classification_report(y_true, y_pred, target_names=list(le.classes_), digits=4))\n",
        "\n",
        "cm = confusion_matrix(y_true, y_pred)\n",
        "plt.figure(figsize=(8,6))\n",
        "sns.heatmap(cm, annot=True, fmt=\"d\",\n",
        "            xticklabels=le.classes_, yticklabels=le.classes_)\n",
        "plt.xlabel(\"Predicted\"); plt.ylabel(\"True\"); plt.title(\"Confusion Matrix (Test)\")\n",
        "plt.tight_layout()\n",
        "plt.show()"
      ],
      "metadata": {
        "colab": {
          "base_uri": "https://localhost:8080/",
          "height": 786
        },
        "id": "O-pm-KiPONfY",
        "outputId": "ba979e7b-d518-4080-a5c9-1504b4f697f3"
      },
      "execution_count": 21,
      "outputs": [
        {
          "output_type": "stream",
          "name": "stdout",
          "text": [
            "[TEST] loss: 0.3928 | acc: 0.8657\n",
            "\n",
            "[Classification Report]\n",
            "              precision    recall  f1-score   support\n",
            "\n",
            "  Downstairs     0.6288    0.5188    0.5685       160\n",
            "     Jogging     0.9656    0.9035    0.9335       653\n",
            "     Sitting     1.0000    0.8866    0.9399        97\n",
            "    Standing     1.0000    1.0000    1.0000        85\n",
            "    Upstairs     0.5899    0.7485    0.6598       171\n",
            "     Walking     0.8734    0.9078    0.8902       889\n",
            "\n",
            "    accuracy                         0.8657      2055\n",
            "   macro avg     0.8429    0.8275    0.8320      2055\n",
            "weighted avg     0.8713    0.8657    0.8667      2055\n",
            "\n"
          ]
        },
        {
          "output_type": "display_data",
          "data": {
            "text/plain": [
              "<Figure size 800x600 with 2 Axes>"
            ],
            "image/png": "[encoded data removed]"
          },
          "metadata": {}
        }
      ]
    },
    {
      "cell_type": "code",
      "source": [
        "# ----------------------------\n",
        "# 10) 예측 함수 예시\n",
        "# ----------------------------\n",
        "def predict_windows(np_array_3xT: np.ndarray, batch_size=256):\n",
        "    \"\"\"\n",
        "    입력: (N, 3, T) 혹은 (3, T)\n",
        "    출력: 클래스 인덱스 배열 및 확률\n",
        "    \"\"\"\n",
        "    model.eval()\n",
        "    if np_array_3xT.ndim == 2:\n",
        "        np_array_3xT = np_array_3xT[None, ...]\n",
        "    Xn = transform_with_scaler(np_array_3xT.astype(np.float32), scaler)\n",
        "    X_tensor = torch.from_numpy(Xn)\n",
        "    preds_all, probs_all = [], []\n",
        "    with torch.no_grad():\n",
        "        for i in range(0, len(X_tensor), batch_size):\n",
        "            xb = X_tensor[i:i+batch_size].to(DEVICE)\n",
        "            out = model(xb)\n",
        "            prob = nn.Softmax(dim=1)(out)\n",
        "            pred = out.argmax(1).cpu().numpy()\n",
        "            preds_all.append(pred)\n",
        "            probs_all.append(prob.cpu().numpy())\n",
        "    preds_all = np.concatenate(preds_all)\n",
        "    probs_all = np.concatenate(probs_all)\n",
        "    return preds_all, probs_all\n",
        "\n",
        "print(\"\\n라벨 인덱스→이름 매핑:\", {i: name for i, name in enumerate(le.classes_)})"
      ],
      "metadata": {
        "colab": {
          "base_uri": "https://localhost:8080/"
        },
        "id": "ZRxgkhtTOP8p",
        "outputId": "ed042d5e-d7c3-4395-ff9c-a5275b0ab33f"
      },
      "execution_count": 22,
      "outputs": [
        {
          "output_type": "stream",
          "name": "stdout",
          "text": [
            "\n",
            "라벨 인덱스→이름 매핑: {0: 'Downstairs', 1: 'Jogging', 2: 'Sitting', 3: 'Standing', 4: 'Upstairs', 5: 'Walking'}\n"
          ]
        }
      ]
    }
  ]
}