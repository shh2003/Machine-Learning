{
  "nbformat": 4,
  "nbformat_minor": 0,
  "metadata": {
    "colab": {
      "provenance": [],
      "gpuType": "T4"
    },
    "kernelspec": {
      "name": "python3",
      "display_name": "Python 3"
    },
    "language_info": {
      "name": "python"
    },
    "accelerator": "GPU"
  },
  "cells": [
    {
      "cell_type": "markdown",
      "source": [
        "# WISDM 시계열 데이터 CNN 분류 과정\n",
        "\n",
        "## 1. 환경 설정\n",
        "- 데이터 경로, 랜덤 시드(seed), 하이퍼파라미터 설정  \n",
        "  - `WINDOW_SIZE` (200), `STEP_SIZE` (100), `EPOCHS` (12) 등  \n",
        "- GPU 사용 가능 여부 확인 후 `DEVICE` 설정  \n",
        "\n",
        "## 2. 데이터 읽기 & 파싱\n",
        "- `WISDM_ar_v1.1_raw.txt` 파일에서 한 줄씩 읽어 다음 항목 추출(user, activity, timestamp, x, y, z)\n",
        "\n",
        "- 공백, 세미콜론 등 불필요한 문자 제거  \n",
        "- 시간 순으로 정렬하여 **Pandas DataFrame** 생성  \n",
        "\n",
        "## 3. 데이터 분할\n",
        "- **사용자 기준(user-wise)** 으로 데이터 분리  \n",
        "- Train: 70%, Validation: 10%, Test: 20%  \n",
        "- 목적: 데이터 누수 방지 (같은 사용자가 train/test에 동시에 포함되지 않도록)  \n",
        "\n",
        "## 4. 라벨 인코딩\n",
        "- 활동명(`activity`)을 숫자 라벨로 변환 → CNN의 출력 차원 확정  \n",
        "- `LabelEncoder`를 사용하여 문자열 라벨을 0, 1, 2...로 매핑  \n",
        "\n",
        "## 5. 슬라이딩 윈도우\n",
        "- 시계열 데이터를 **길이 200**으로 자르고 **50% 겹치도록(100 step)** 샘플링  \n",
        "- CNN 입력 형태로 변환\n",
        "`(N, 3, 200) → N: 샘플 수, 3: 채널(x, y, z), 200: 시계열 길이`\n",
        "\n",
        "\n",
        "## 6. 데이터 표준화\n",
        "- Train 데이터 기준으로 평균 0, 표준편차 1로 **표준화(Standardization)**  \n",
        "- 동일한 scaler를 Validation, Test 데이터에도 적용  \n",
        "\n",
        "## 7. PyTorch Dataset / DataLoader\n",
        "- Dataset 클래스 작성 → `(X, y)` 반환  \n",
        "- DataLoader로 batch 단위 학습 가능하도록 구성  \n",
        "- `batch_size = 256`  \n",
        "- Train은 `shuffle=True`로 랜덤 섞기  \n",
        "\n",
        "## 8. 1D CNN 모델 설계\n",
        "- **구조**  \n",
        "\n",
        "`Conv1D → BatchNorm → ReLU → MaxPool`\n",
        "\n",
        "`Conv1D → BatchNorm → ReLU → MaxPool`\n",
        "\n",
        "`Conv1D → BatchNorm → ReLU → Dropout`\n",
        "\n",
        "`Global Average Pooling → Fully Connected Layer → Softmax`\n",
        "\n",
        "- 입력: `(batch, 3, 200)`  \n",
        "- 출력: 활동 클래스 확률  \n",
        "\n",
        "## 9. 학습 과정\n",
        "- **손실 함수**: CrossEntropyLoss  \n",
        "- **최적화 알고리즘**: AdamW  \n",
        "- Epoch마다 Train → Validation 평가  \n",
        "- Validation 정확도가 가장 높은 모델 저장  \n",
        "\n",
        "## 10. 테스트 및 결과 평가\n",
        "- Test 데이터로 최종 성능 측정  \n",
        "- **출력 결과**  \n",
        "- 정확도(Accuracy)  \n",
        "- F1-score, Precision, Recall  \n",
        "- Confusion Matrix 시각화  \n",
        "\n",
        "## 전체 흐름 요약\n",
        "1. **데이터 로딩** → 파싱 및 정제  \n",
        "2. **Train/Val/Test 분리** (사용자 기준)  \n",
        "3. **슬라이딩 윈도우**로 시계열을 고정 길이 샘플로 변환  \n",
        "4. **표준화**로 입력 값 스케일 정규화  \n",
        "5. CNN 모델 정의 및 학습  \n",
        "6. Validation으로 성능 모니터링, Test 세트로 최종 평가  \n",
        "\n",
        "\n",
        "> *시계열 데이터를 창 단위로 자르고 → CNN으로 학습 → 일반화 성능 평가*\n"
      ],
      "metadata": {
        "id": "3rsP8MKyQsZ9"
      }
    },
    {
      "cell_type": "code",
      "source": [
        "\n",
        "# ===============================================================\n",
        "# WISDM v1.1 raw -> 1D CNN 분류 (PyTorch, Colab)\n",
        "# - 입력 파일: /content/WISDM_ar_v1.1_raw.txt\n",
        "# - 시계열 창 자르기(windowing) + 사용자 단위 분할(user-wise)\n",
        "# - 표준화는 train 기준으로만 fit\n",
        "# ===============================================================\n",
        "\n",
        "import os, io, random, re, math, time\n",
        "import numpy as np\n",
        "import pandas as pd\n",
        "import matplotlib.pyplot as plt\n",
        "import seaborn as sns\n",
        "\n",
        "from sklearn.preprocessing import StandardScaler, LabelEncoder\n",
        "from sklearn.metrics import classification_report, confusion_matrix\n",
        "\n",
        "import torch\n",
        "import torch.nn as nn\n",
        "import torch.optim as optim\n",
        "from torch.utils.data import Dataset, DataLoader\n",
        "\n",
        "from tqdm import tqdm"
      ],
      "metadata": {
        "id": "rtkC_2HWNZP5"
      },
      "execution_count": 23,
      "outputs": []
    },
    {
      "cell_type": "code",
      "source": [
        "# ----------------------------\n",
        "# 0) 환경 설정\n",
        "# ----------------------------\n",
        "SEED = 42\n",
        "random.seed(SEED); np.random.seed(SEED)\n",
        "torch.manual_seed(SEED); torch.cuda.manual_seed_all(SEED)\n",
        "DEVICE = torch.device(\"cuda\" if torch.cuda.is_available() else \"cpu\")\n",
        "DATA_PATH = \"/content/drive/MyDrive/Colab Notebooks/WISDM_ar_v1.1/WISDM_ar_v1.1_raw.txt\"  # 코랩에 저장된 경로"
      ],
      "metadata": {
        "id": "z0KQgBknNeYL"
      },
      "execution_count": 24,
      "outputs": []
    },
    {
      "cell_type": "code",
      "source": [
        "# 윈도우 관련 하이퍼파라미터\n",
        "WINDOW_SIZE = 200          # 시계열 길이(가속도 샘플 개수)\n",
        "STEP_SIZE = 100            # 50% overlap\n",
        "MIN_SAMPLES_PER_ACTIVITY = WINDOW_SIZE"
      ],
      "metadata": {
        "id": "cFsIQ7CnNeVe"
      },
      "execution_count": 25,
      "outputs": []
    },
    {
      "cell_type": "code",
      "source": [
        "# 학습 관련 하이퍼파라미터\n",
        "BATCH_SIZE = 256\n",
        "EPOCHS = 12\n",
        "LR = 1e-3\n",
        "WEIGHT_DECAY = 1e-4\n",
        "DROPOUT = 0.3\n"
      ],
      "metadata": {
        "id": "EP69fZTLNeRB"
      },
      "execution_count": 26,
      "outputs": []
    },
    {
      "cell_type": "code",
      "source": [
        "# ----------------------------\n",
        "# 1) 데이터 파서\n",
        "# ----------------------------\n",
        "def parse_wisdm_line(line: str):\n",
        "    \"\"\"\n",
        "    예시 라인: \"244,Jogging,2672280966,0.5,0.1,9.8;\"\n",
        "    일부 라인은 공백/세미콜론 포함, 불완전 라인도 있으므로 방어적 파싱.\n",
        "    반환: (user:int, activity:str, ts:int, x:float, y:float, z:float) 또는 None\n",
        "    \"\"\"\n",
        "    line = line.strip()\n",
        "    if not line:\n",
        "        return None\n",
        "    line = line.replace(\";\", \"\")\n",
        "    parts = [p.strip() for p in line.split(\",\")]\n",
        "    if len(parts) != 6:\n",
        "        return None\n",
        "    try:\n",
        "        user = int(parts[0])\n",
        "        activity = parts[1]\n",
        "        ts = int(parts[2])\n",
        "        x, y, z = float(parts[3]), float(parts[4]), float(parts[5])\n",
        "        return (user, activity, ts, x, y, z)\n",
        "    except:\n",
        "        return None\n",
        "\n",
        "def load_wisdm_raw(path: str) -> pd.DataFrame:\n",
        "    rows = []\n",
        "    with io.open(path, \"r\", encoding=\"utf-8\", errors=\"ignore\") as f:\n",
        "        for line in f:\n",
        "            rec = parse_wisdm_line(line)\n",
        "            if rec is not None:\n",
        "                rows.append(rec)\n",
        "    if not rows:\n",
        "        raise ValueError(\"유효한 레코드를 찾지 못했습니다. 파일 경로나 포맷을 확인하세요.\")\n",
        "    df = pd.DataFrame(rows, columns=[\"user\", \"activity\", \"timestamp\", \"x\", \"y\", \"z\"])\n",
        "    df = df.sort_values([\"user\", \"timestamp\"]).reset_index(drop=True)\n",
        "    return df\n",
        "\n",
        "df = load_wisdm_raw(DATA_PATH)\n",
        "print(\"원시 레코드 수:\", len(df))\n",
        "print(\"사용자 수:\", df[\"user\"].nunique())\n",
        "print(\"활동 라벨:\", df[\"activity\"].unique())\n",
        "\n",
        "df\n"
      ],
      "metadata": {
        "colab": {
          "base_uri": "https://localhost:8080/",
          "height": 479
        },
        "id": "yNBm8jRyNeLc",
        "outputId": "8d677222-041b-483a-dc26-b8d657188878"
      },
      "execution_count": 37,
      "outputs": [
        {
          "output_type": "stream",
          "name": "stdout",
          "text": [
            "원시 레코드 수: 1086465\n",
            "사용자 수: 36\n",
            "활동 라벨: ['Walking' 'Jogging' 'Upstairs' 'Downstairs' 'Sitting' 'Standing']\n"
          ]
        },
        {
          "output_type": "execute_result",
          "data": {
            "text/plain": [
              "         user  activity       timestamp     x      y         z\n",
              "0           1   Walking   4991922345000  0.69  10.80 -2.030000\n",
              "1           1   Walking   4991972333000  6.85   7.44 -0.500000\n",
              "2           1   Walking   4992022351000  0.93   5.63 -0.500000\n",
              "3           1   Walking   4992072339000 -2.11   5.01 -0.690000\n",
              "4           1   Walking   4992122358000 -4.59   4.29 -1.950000\n",
              "...       ...       ...             ...   ...    ...       ...\n",
              "1086460    36  Standing  15049012250000 -0.91   9.43  2.533385\n",
              "1086461    36  Standing  15049062268000 -1.18   9.51  2.492524\n",
              "1086462    36  Standing  15049112287000 -1.50   9.53  2.533385\n",
              "1086463    36  Standing  15049162275000 -2.07   8.77  2.179256\n",
              "1086464    36  Standing  15049212262000 -2.14   9.89  3.255263\n",
              "\n",
              "[1086465 rows x 6 columns]"
            ],
            "text/html": [
              "\n",
              "  <div id=\"df-15afa52b-8d91-40b8-80f7-5f04a285860c\" class=\"colab-df-container\">\n",
              "    <div>\n",
              "<style scoped>\n",
              "    .dataframe tbody tr th:only-of-type {\n",
              "        vertical-align: middle;\n",
              "    }\n",
              "\n",
              "    .dataframe tbody tr th {\n",
              "        vertical-align: top;\n",
              "    }\n",
              "\n",
              "    .dataframe thead th {\n",
              "        text-align: right;\n",
              "    }\n",
              "</style>\n",
              "<table border=\"1\" class=\"dataframe\">\n",
              "  <thead>\n",
              "    <tr style=\"text-align: right;\">\n",
              "      <th></th>\n",
              "      <th>user</th>\n",
              "      <th>activity</th>\n",
              "      <th>timestamp</th>\n",
              "      <th>x</th>\n",
              "      <th>y</th>\n",
              "      <th>z</th>\n",
              "    </tr>\n",
              "  </thead>\n",
              "  <tbody>\n",
              "    <tr>\n",
              "      <th>0</th>\n",
              "      <td>1</td>\n",
              "      <td>Walking</td>\n",
              "      <td>4991922345000</td>\n",
              "      <td>0.69</td>\n",
              "      <td>10.80</td>\n",
              "      <td>-2.030000</td>\n",
              "    </tr>\n",
              "    <tr>\n",
              "      <th>1</th>\n",
              "      <td>1</td>\n",
              "      <td>Walking</td>\n",
              "      <td>4991972333000</td>\n",
              "      <td>6.85</td>\n",
              "      <td>7.44</td>\n",
              "      <td>-0.500000</td>\n",
              "    </tr>\n",
              "    <tr>\n",
              "      <th>2</th>\n",
              "      <td>1</td>\n",
              "      <td>Walking</td>\n",
              "      <td>4992022351000</td>\n",
              "      <td>0.93</td>\n",
              "      <td>5.63</td>\n",
              "      <td>-0.500000</td>\n",
              "    </tr>\n",
              "    <tr>\n",
              "      <th>3</th>\n",
              "      <td>1</td>\n",
              "      <td>Walking</td>\n",
              "      <td>4992072339000</td>\n",
              "      <td>-2.11</td>\n",
              "      <td>5.01</td>\n",
              "      <td>-0.690000</td>\n",
              "    </tr>\n",
              "    <tr>\n",
              "      <th>4</th>\n",
              "      <td>1</td>\n",
              "      <td>Walking</td>\n",
              "      <td>4992122358000</td>\n",
              "      <td>-4.59</td>\n",
              "      <td>4.29</td>\n",
              "      <td>-1.950000</td>\n",
              "    </tr>\n",
              "    <tr>\n",
              "      <th>...</th>\n",
              "      <td>...</td>\n",
              "      <td>...</td>\n",
              "      <td>...</td>\n",
              "      <td>...</td>\n",
              "      <td>...</td>\n",
              "      <td>...</td>\n",
              "    </tr>\n",
              "    <tr>\n",
              "      <th>1086460</th>\n",
              "      <td>36</td>\n",
              "      <td>Standing</td>\n",
              "      <td>15049012250000</td>\n",
              "      <td>-0.91</td>\n",
              "      <td>9.43</td>\n",
              "      <td>2.533385</td>\n",
              "    </tr>\n",
              "    <tr>\n",
              "      <th>1086461</th>\n",
              "      <td>36</td>\n",
              "      <td>Standing</td>\n",
              "      <td>15049062268000</td>\n",
              "      <td>-1.18</td>\n",
              "      <td>9.51</td>\n",
              "      <td>2.492524</td>\n",
              "    </tr>\n",
              "    <tr>\n",
              "      <th>1086462</th>\n",
              "      <td>36</td>\n",
              "      <td>Standing</td>\n",
              "      <td>15049112287000</td>\n",
              "      <td>-1.50</td>\n",
              "      <td>9.53</td>\n",
              "      <td>2.533385</td>\n",
              "    </tr>\n",
              "    <tr>\n",
              "      <th>1086463</th>\n",
              "      <td>36</td>\n",
              "      <td>Standing</td>\n",
              "      <td>15049162275000</td>\n",
              "      <td>-2.07</td>\n",
              "      <td>8.77</td>\n",
              "      <td>2.179256</td>\n",
              "    </tr>\n",
              "    <tr>\n",
              "      <th>1086464</th>\n",
              "      <td>36</td>\n",
              "      <td>Standing</td>\n",
              "      <td>15049212262000</td>\n",
              "      <td>-2.14</td>\n",
              "      <td>9.89</td>\n",
              "      <td>3.255263</td>\n",
              "    </tr>\n",
              "  </tbody>\n",
              "</table>\n",
              "<p>1086465 rows × 6 columns</p>\n",
              "</div>\n",
              "    <div class=\"colab-df-buttons\">\n",
              "\n",
              "  <div class=\"colab-df-container\">\n",
              "    <button class=\"colab-df-convert\" onclick=\"convertToInteractive('df-15afa52b-8d91-40b8-80f7-5f04a285860c')\"\n",
              "            title=\"Convert this dataframe to an interactive table.\"\n",
              "            style=\"display:none;\">\n",
              "\n",
              "  <svg xmlns=\"http://www.w3.org/2000/svg\" height=\"24px\" viewBox=\"0 -960 960 960\">\n",
              "    <path d=\"M120-120v-720h720v720H120Zm60-500h600v-160H180v160Zm220 220h160v-160H400v160Zm0 220h160v-160H400v160ZM180-400h160v-160H180v160Zm440 0h160v-160H620v160ZM180-180h160v-160H180v160Zm440 0h160v-160H620v160Z\"/>\n",
              "  </svg>\n",
              "    </button>\n",
              "\n",
              "  <style>\n",
              "    .colab-df-container {\n",
              "      display:flex;\n",
              "      gap: 12px;\n",
              "    }\n",
              "\n",
              "    .colab-df-convert {\n",
              "      background-color: #E8F0FE;\n",
              "      border: none;\n",
              "      border-radius: 50%;\n",
              "      cursor: pointer;\n",
              "      display: none;\n",
              "      fill: #1967D2;\n",
              "      height: 32px;\n",
              "      padding: 0 0 0 0;\n",
              "      width: 32px;\n",
              "    }\n",
              "\n",
              "    .colab-df-convert:hover {\n",
              "      background-color: #E2EBFA;\n",
              "      box-shadow: 0px 1px 2px rgba(60, 64, 67, 0.3), 0px 1px 3px 1px rgba(60, 64, 67, 0.15);\n",
              "      fill: #174EA6;\n",
              "    }\n",
              "\n",
              "    .colab-df-buttons div {\n",
              "      margin-bottom: 4px;\n",
              "    }\n",
              "\n",
              "    [theme=dark] .colab-df-convert {\n",
              "      background-color: #3B4455;\n",
              "      fill: #D2E3FC;\n",
              "    }\n",
              "\n",
              "    [theme=dark] .colab-df-convert:hover {\n",
              "      background-color: #434B5C;\n",
              "      box-shadow: 0px 1px 3px 1px rgba(0, 0, 0, 0.15);\n",
              "      filter: drop-shadow(0px 1px 2px rgba(0, 0, 0, 0.3));\n",
              "      fill: #FFFFFF;\n",
              "    }\n",
              "  </style>\n",
              "\n",
              "    <script>\n",
              "      const buttonEl =\n",
              "        document.querySelector('#df-15afa52b-8d91-40b8-80f7-5f04a285860c button.colab-df-convert');\n",
              "      buttonEl.style.display =\n",
              "        google.colab.kernel.accessAllowed ? 'block' : 'none';\n",
              "\n",
              "      async function convertToInteractive(key) {\n",
              "        const element = document.querySelector('#df-15afa52b-8d91-40b8-80f7-5f04a285860c');\n",
              "        const dataTable =\n",
              "          await google.colab.kernel.invokeFunction('convertToInteractive',\n",
              "                                                    [key], {});\n",
              "        if (!dataTable) return;\n",
              "\n",
              "        const docLinkHtml = 'Like what you see? Visit the ' +\n",
              "          '<a target=\"_blank\" href=https://colab.research.google.com/notebooks/data_table.ipynb>data table notebook</a>'\n",
              "          + ' to learn more about interactive tables.';\n",
              "        element.innerHTML = '';\n",
              "        dataTable['output_type'] = 'display_data';\n",
              "        await google.colab.output.renderOutput(dataTable, element);\n",
              "        const docLink = document.createElement('div');\n",
              "        docLink.innerHTML = docLinkHtml;\n",
              "        element.appendChild(docLink);\n",
              "      }\n",
              "    </script>\n",
              "  </div>\n",
              "\n",
              "\n",
              "    <div id=\"df-4e4a0d74-9b43-4023-a061-9d88d140bf65\">\n",
              "      <button class=\"colab-df-quickchart\" onclick=\"quickchart('df-4e4a0d74-9b43-4023-a061-9d88d140bf65')\"\n",
              "                title=\"Suggest charts\"\n",
              "                style=\"display:none;\">\n",
              "\n",
              "<svg xmlns=\"http://www.w3.org/2000/svg\" height=\"24px\"viewBox=\"0 0 24 24\"\n",
              "     width=\"24px\">\n",
              "    <g>\n",
              "        <path d=\"M19 3H5c-1.1 0-2 .9-2 2v14c0 1.1.9 2 2 2h14c1.1 0 2-.9 2-2V5c0-1.1-.9-2-2-2zM9 17H7v-7h2v7zm4 0h-2V7h2v10zm4 0h-2v-4h2v4z\"/>\n",
              "    </g>\n",
              "</svg>\n",
              "      </button>\n",
              "\n",
              "<style>\n",
              "  .colab-df-quickchart {\n",
              "      --bg-color: #E8F0FE;\n",
              "      --fill-color: #1967D2;\n",
              "      --hover-bg-color: #E2EBFA;\n",
              "      --hover-fill-color: #174EA6;\n",
              "      --disabled-fill-color: #AAA;\n",
              "      --disabled-bg-color: #DDD;\n",
              "  }\n",
              "\n",
              "  [theme=dark] .colab-df-quickchart {\n",
              "      --bg-color: #3B4455;\n",
              "      --fill-color: #D2E3FC;\n",
              "      --hover-bg-color: #434B5C;\n",
              "      --hover-fill-color: #FFFFFF;\n",
              "      --disabled-bg-color: #3B4455;\n",
              "      --disabled-fill-color: #666;\n",
              "  }\n",
              "\n",
              "  .colab-df-quickchart {\n",
              "    background-color: var(--bg-color);\n",
              "    border: none;\n",
              "    border-radius: 50%;\n",
              "    cursor: pointer;\n",
              "    display: none;\n",
              "    fill: var(--fill-color);\n",
              "    height: 32px;\n",
              "    padding: 0;\n",
              "    width: 32px;\n",
              "  }\n",
              "\n",
              "  .colab-df-quickchart:hover {\n",
              "    background-color: var(--hover-bg-color);\n",
              "    box-shadow: 0 1px 2px rgba(60, 64, 67, 0.3), 0 1px 3px 1px rgba(60, 64, 67, 0.15);\n",
              "    fill: var(--button-hover-fill-color);\n",
              "  }\n",
              "\n",
              "  .colab-df-quickchart-complete:disabled,\n",
              "  .colab-df-quickchart-complete:disabled:hover {\n",
              "    background-color: var(--disabled-bg-color);\n",
              "    fill: var(--disabled-fill-color);\n",
              "    box-shadow: none;\n",
              "  }\n",
              "\n",
              "  .colab-df-spinner {\n",
              "    border: 2px solid var(--fill-color);\n",
              "    border-color: transparent;\n",
              "    border-bottom-color: var(--fill-color);\n",
              "    animation:\n",
              "      spin 1s steps(1) infinite;\n",
              "  }\n",
              "\n",
              "  @keyframes spin {\n",
              "    0% {\n",
              "      border-color: transparent;\n",
              "      border-bottom-color: var(--fill-color);\n",
              "      border-left-color: var(--fill-color);\n",
              "    }\n",
              "    20% {\n",
              "      border-color: transparent;\n",
              "      border-left-color: var(--fill-color);\n",
              "      border-top-color: var(--fill-color);\n",
              "    }\n",
              "    30% {\n",
              "      border-color: transparent;\n",
              "      border-left-color: var(--fill-color);\n",
              "      border-top-color: var(--fill-color);\n",
              "      border-right-color: var(--fill-color);\n",
              "    }\n",
              "    40% {\n",
              "      border-color: transparent;\n",
              "      border-right-color: var(--fill-color);\n",
              "      border-top-color: var(--fill-color);\n",
              "    }\n",
              "    60% {\n",
              "      border-color: transparent;\n",
              "      border-right-color: var(--fill-color);\n",
              "    }\n",
              "    80% {\n",
              "      border-color: transparent;\n",
              "      border-right-color: var(--fill-color);\n",
              "      border-bottom-color: var(--fill-color);\n",
              "    }\n",
              "    90% {\n",
              "      border-color: transparent;\n",
              "      border-bottom-color: var(--fill-color);\n",
              "    }\n",
              "  }\n",
              "</style>\n",
              "\n",
              "      <script>\n",
              "        async function quickchart(key) {\n",
              "          const quickchartButtonEl =\n",
              "            document.querySelector('#' + key + ' button');\n",
              "          quickchartButtonEl.disabled = true;  // To prevent multiple clicks.\n",
              "          quickchartButtonEl.classList.add('colab-df-spinner');\n",
              "          try {\n",
              "            const charts = await google.colab.kernel.invokeFunction(\n",
              "                'suggestCharts', [key], {});\n",
              "          } catch (error) {\n",
              "            console.error('Error during call to suggestCharts:', error);\n",
              "          }\n",
              "          quickchartButtonEl.classList.remove('colab-df-spinner');\n",
              "          quickchartButtonEl.classList.add('colab-df-quickchart-complete');\n",
              "        }\n",
              "        (() => {\n",
              "          let quickchartButtonEl =\n",
              "            document.querySelector('#df-4e4a0d74-9b43-4023-a061-9d88d140bf65 button');\n",
              "          quickchartButtonEl.style.display =\n",
              "            google.colab.kernel.accessAllowed ? 'block' : 'none';\n",
              "        })();\n",
              "      </script>\n",
              "    </div>\n",
              "\n",
              "  <div id=\"id_a0e03199-ab56-4547-9ce2-d37f89825b7b\">\n",
              "    <style>\n",
              "      .colab-df-generate {\n",
              "        background-color: #E8F0FE;\n",
              "        border: none;\n",
              "        border-radius: 50%;\n",
              "        cursor: pointer;\n",
              "        display: none;\n",
              "        fill: #1967D2;\n",
              "        height: 32px;\n",
              "        padding: 0 0 0 0;\n",
              "        width: 32px;\n",
              "      }\n",
              "\n",
              "      .colab-df-generate:hover {\n",
              "        background-color: #E2EBFA;\n",
              "        box-shadow: 0px 1px 2px rgba(60, 64, 67, 0.3), 0px 1px 3px 1px rgba(60, 64, 67, 0.15);\n",
              "        fill: #174EA6;\n",
              "      }\n",
              "\n",
              "      [theme=dark] .colab-df-generate {\n",
              "        background-color: #3B4455;\n",
              "        fill: #D2E3FC;\n",
              "      }\n",
              "\n",
              "      [theme=dark] .colab-df-generate:hover {\n",
              "        background-color: #434B5C;\n",
              "        box-shadow: 0px 1px 3px 1px rgba(0, 0, 0, 0.15);\n",
              "        filter: drop-shadow(0px 1px 2px rgba(0, 0, 0, 0.3));\n",
              "        fill: #FFFFFF;\n",
              "      }\n",
              "    </style>\n",
              "    <button class=\"colab-df-generate\" onclick=\"generateWithVariable('df')\"\n",
              "            title=\"Generate code using this dataframe.\"\n",
              "            style=\"display:none;\">\n",
              "\n",
              "  <svg xmlns=\"http://www.w3.org/2000/svg\" height=\"24px\"viewBox=\"0 0 24 24\"\n",
              "       width=\"24px\">\n",
              "    <path d=\"M7,19H8.4L18.45,9,17,7.55,7,17.6ZM5,21V16.75L18.45,3.32a2,2,0,0,1,2.83,0l1.4,1.43a1.91,1.91,0,0,1,.58,1.4,1.91,1.91,0,0,1-.58,1.4L9.25,21ZM18.45,9,17,7.55Zm-12,3A5.31,5.31,0,0,0,4.9,8.1,5.31,5.31,0,0,0,1,6.5,5.31,5.31,0,0,0,4.9,4.9,5.31,5.31,0,0,0,6.5,1,5.31,5.31,0,0,0,8.1,4.9,5.31,5.31,0,0,0,12,6.5,5.46,5.46,0,0,0,6.5,12Z\"/>\n",
              "  </svg>\n",
              "    </button>\n",
              "    <script>\n",
              "      (() => {\n",
              "      const buttonEl =\n",
              "        document.querySelector('#id_a0e03199-ab56-4547-9ce2-d37f89825b7b button.colab-df-generate');\n",
              "      buttonEl.style.display =\n",
              "        google.colab.kernel.accessAllowed ? 'block' : 'none';\n",
              "\n",
              "      buttonEl.onclick = () => {\n",
              "        google.colab.notebook.generateWithVariable('df');\n",
              "      }\n",
              "      })();\n",
              "    </script>\n",
              "  </div>\n",
              "\n",
              "    </div>\n",
              "  </div>\n"
            ],
            "application/vnd.google.colaboratory.intrinsic+json": {
              "type": "dataframe",
              "variable_name": "df"
            }
          },
          "metadata": {},
          "execution_count": 37
        }
      ]
    },
    {
      "cell_type": "code",
      "source": [
        "# ----------------------------\n",
        "# 2) 사용자 단위 분할(user-wise)\n",
        "# ----------------------------\n",
        "users = sorted(df[\"user\"].unique())\n",
        "random.shuffle(users)\n",
        "\n",
        "# 70/10/20 비율로 분할 (사용자 기준)\n",
        "n = len(users)\n",
        "n_train = int(n * 0.7)\n",
        "n_val = int(n * 0.1)\n",
        "train_users = set(users[:n_train])\n",
        "val_users   = set(users[n_train:n_train+n_val])\n",
        "test_users  = set(users[n_train+n_val:])\n",
        "\n",
        "df_train = df[df[\"user\"].isin(train_users)].copy()\n",
        "df_val   = df[df[\"user\"].isin(val_users)].copy()\n",
        "df_test  = df[df[\"user\"].isin(test_users)].copy()\n",
        "\n",
        "print(f\"train users: {len(train_users)}, val users: {len(val_users)}, test users: {len(test_users)}\")\n"
      ],
      "metadata": {
        "colab": {
          "base_uri": "https://localhost:8080/"
        },
        "id": "CVPs_cJrNeEL",
        "outputId": "199755b8-e5e8-49a5-ab32-a3ca9a52f511"
      },
      "execution_count": 28,
      "outputs": [
        {
          "output_type": "stream",
          "name": "stdout",
          "text": [
            "train users: 25, val users: 3, test users: 8\n"
          ]
        }
      ]
    },
    {
      "cell_type": "code",
      "source": [
        "# ----------------------------\n",
        "# 3) 활동 라벨 인코딩\n",
        "# ----------------------------\n",
        "le = LabelEncoder()\n",
        "le.fit(df_train[\"activity\"])  # train 기준으로만 fit\n",
        "df_train[\"label\"] = le.transform(df_train[\"activity\"])\n",
        "# validation/test에 train에 없던 라벨이 있으면 제외\n",
        "df_val = df_val[df_val[\"activity\"].isin(le.classes_)].copy()\n",
        "df_test = df_test[df_test[\"activity\"].isin(le.classes_)].copy()\n",
        "df_val[\"label\"] = le.transform(df_val[\"activity\"])\n",
        "df_test[\"label\"] = le.transform(df_test[\"activity\"])\n",
        "\n",
        "num_classes = len(le.classes_)\n",
        "print(\"클래스 수:\", num_classes, \"=>\", list(le.classes_))"
      ],
      "metadata": {
        "colab": {
          "base_uri": "https://localhost:8080/"
        },
        "id": "wfNMBK4rN8xv",
        "outputId": "a80e09bb-c362-4b1b-d073-34fc6c733b0c"
      },
      "execution_count": 29,
      "outputs": [
        {
          "output_type": "stream",
          "name": "stdout",
          "text": [
            "클래스 수: 6 => ['Downstairs', 'Jogging', 'Sitting', 'Standing', 'Upstairs', 'Walking']\n"
          ]
        }
      ]
    },
    {
      "cell_type": "code",
      "source": [
        "# ----------------------------\n",
        "# 4) 사용자·라벨별로 슬라이딩 윈도우 생성\n",
        "# ----------------------------\n",
        "def make_windows_userwise(df_part: pd.DataFrame, window_size=WINDOW_SIZE, step=STEP_SIZE):\n",
        "    \"\"\"\n",
        "    같은 사용자, 같은 activity 내에서 시간 순으로 window를 생성.\n",
        "    출력 X: (N, 3, window_size), y: (N,), users: (N,)\n",
        "    \"\"\"\n",
        "    X_list, y_list, u_list = [], [], []\n",
        "    for user_id in df_part[\"user\"].unique():\n",
        "        df_u = df_part[df_part[\"user\"] == user_id]\n",
        "        for label_id in df_u[\"label\"].unique():\n",
        "            df_ul = df_u[df_u[\"label\"] == label_id].sort_values(\"timestamp\")\n",
        "            if len(df_ul) < window_size:\n",
        "                continue\n",
        "            arr = df_ul[[\"x\", \"y\", \"z\"]].values  # (T, 3)\n",
        "            # 슬라이싱 인덱스\n",
        "            for start in range(0, len(arr) - window_size + 1, step):\n",
        "                seg = arr[start:start+window_size]  # (window_size, 3)\n",
        "                X_list.append(seg.T)  # (3, window_size)\n",
        "                y_list.append(label_id)\n",
        "                u_list.append(user_id)\n",
        "    if not X_list:\n",
        "        return np.empty((0,3,window_size), dtype=np.float32), np.empty((0,), dtype=np.int64), []\n",
        "    X = np.stack(X_list).astype(np.float32)\n",
        "    y = np.array(y_list, dtype=np.int64)\n",
        "    return X, y, u_list\n",
        "\n",
        "X_train, y_train, users_train = make_windows_userwise(df_train)\n",
        "X_val,   y_val,   users_val   = make_windows_userwise(df_val)\n",
        "X_test,  y_test,  users_test  = make_windows_userwise(df_test)\n",
        "\n",
        "print(\"윈도우 샘플 수:\",\n",
        "      \"train\", X_train.shape, \"val\", X_val.shape, \"test\", X_test.shape)"
      ],
      "metadata": {
        "colab": {
          "base_uri": "https://localhost:8080/"
        },
        "id": "n-OG3E-mN-6q",
        "outputId": "f0efae2e-8f81-4ff7-ae23-dec5fe1c8275"
      },
      "execution_count": 30,
      "outputs": [
        {
          "output_type": "stream",
          "name": "stdout",
          "text": [
            "윈도우 샘플 수: train (7723, 3, 200) val (813, 3, 200) test (2055, 3, 200)\n"
          ]
        }
      ]
    },
    {
      "cell_type": "code",
      "source": [
        "# ----------------------------\n",
        "# 5) 표준화 (train 기준으로만 fit)\n",
        "# ----------------------------\n",
        "# 채널별(x,y,z)로 표준화하기 위해 (N, 3, T)를 (N*T, 3)로 reshape 후 scaler 적용\n",
        "def fit_scaler_on_train(X):\n",
        "    N, C, T = X.shape\n",
        "    scaler = StandardScaler()\n",
        "    X_2d = X.transpose(0,2,1).reshape(-1, C)   # (N*T, 3)\n",
        "    scaler.fit(X_2d)\n",
        "    return scaler\n",
        "\n",
        "def transform_with_scaler(X, scaler):\n",
        "    if X.size == 0:\n",
        "        return X\n",
        "    N, C, T = X.shape\n",
        "    X_2d = X.transpose(0,2,1).reshape(-1, C)\n",
        "    X_2d = scaler.transform(X_2d)\n",
        "    return X_2d.reshape(N, T, C).transpose(0,2,1).astype(np.float32)\n",
        "\n",
        "scaler = fit_scaler_on_train(X_train)\n",
        "X_train = transform_with_scaler(X_train, scaler)\n",
        "X_val   = transform_with_scaler(X_val, scaler)\n",
        "X_test  = transform_with_scaler(X_test, scaler)"
      ],
      "metadata": {
        "id": "y7JY3_E8OB7r"
      },
      "execution_count": 31,
      "outputs": []
    },
    {
      "cell_type": "code",
      "source": [
        "# ----------------------------\n",
        "# 6) PyTorch Dataset / DataLoader\n",
        "# ----------------------------\n",
        "class WISDMDataset(Dataset):\n",
        "    def __init__(self, X, y):\n",
        "        self.X = torch.from_numpy(X)  # (N, 3, T)\n",
        "        self.y = torch.from_numpy(y)  # (N,)\n",
        "    def __len__(self): return self.X.shape[0]\n",
        "    def __getitem__(self, idx):\n",
        "        return self.X[idx], self.y[idx]\n",
        "\n",
        "train_ds = WISDMDataset(X_train, y_train)\n",
        "val_ds   = WISDMDataset(X_val, y_val)\n",
        "test_ds  = WISDMDataset(X_test, y_test)\n",
        "\n",
        "train_loader = DataLoader(train_ds, batch_size=BATCH_SIZE, shuffle=True, num_workers=2, pin_memory=True)\n",
        "val_loader   = DataLoader(val_ds, batch_size=BATCH_SIZE, shuffle=False, num_workers=2, pin_memory=True)\n",
        "test_loader  = DataLoader(test_ds, batch_size=BATCH_SIZE, shuffle=False, num_workers=2, pin_memory=True)\n"
      ],
      "metadata": {
        "id": "eTQYf3vTOEH2"
      },
      "execution_count": 32,
      "outputs": []
    },
    {
      "cell_type": "code",
      "source": [
        "# ----------------------------\n",
        "# 7) 1D CNN 모델 정의\n",
        "# ----------------------------\n",
        "class CNN1D(nn.Module):\n",
        "    def __init__(self, in_ch=3, n_classes=6, dropout=DROPOUT):\n",
        "        super().__init__()\n",
        "        self.features = nn.Sequential(\n",
        "            nn.Conv1d(in_ch, 64, kernel_size=5, padding=2),\n",
        "            nn.BatchNorm1d(64),\n",
        "            nn.ReLU(inplace=True),\n",
        "            nn.MaxPool1d(2),\n",
        "\n",
        "            nn.Conv1d(64, 128, kernel_size=5, padding=2),\n",
        "            nn.BatchNorm1d(128),\n",
        "            nn.ReLU(inplace=True),\n",
        "            nn.MaxPool1d(2),\n",
        "\n",
        "            nn.Conv1d(128, 256, kernel_size=3, padding=1),\n",
        "            nn.BatchNorm1d(256),\n",
        "            nn.ReLU(inplace=True),\n",
        "            nn.Dropout(dropout),\n",
        "        )\n",
        "        self.gap = nn.AdaptiveAvgPool1d(1)  # (B, C, 1)\n",
        "        self.classifier = nn.Sequential(\n",
        "            nn.Flatten(),\n",
        "            nn.Linear(256, 128),\n",
        "            nn.ReLU(inplace=True),\n",
        "            nn.Dropout(dropout),\n",
        "            nn.Linear(128, n_classes),\n",
        "        )\n",
        "    def forward(self, x):           # x: (B, 3, T)\n",
        "        h = self.features(x)        # (B, 256, T')\n",
        "        h = self.gap(h)             # (B, 256, 1)\n",
        "        logits = self.classifier(h) # (B, n_classes)\n",
        "        return logits\n",
        "\n",
        "model = CNN1D(in_ch=3, n_classes=num_classes).to(DEVICE)\n",
        "criterion = nn.CrossEntropyLoss()\n",
        "optimizer = optim.AdamW(model.parameters(), lr=LR, weight_decay=WEIGHT_DECAY)"
      ],
      "metadata": {
        "id": "TMwJRnWJOGTR"
      },
      "execution_count": 33,
      "outputs": []
    },
    {
      "cell_type": "code",
      "source": [
        "# ----------------------------\n",
        "# 8) 학습/검증 루프\n",
        "# ----------------------------\n",
        "def evaluate(dloader):\n",
        "    model.eval()\n",
        "    loss_sum, n, correct = 0.0, 0, 0\n",
        "    all_preds, all_targets = [], []\n",
        "    with torch.no_grad():\n",
        "        for Xb, yb in dloader:\n",
        "            Xb, yb = Xb.to(DEVICE), yb.to(DEVICE)\n",
        "            out = model(Xb)\n",
        "            loss = criterion(out, yb)\n",
        "            loss_sum += loss.item() * Xb.size(0)\n",
        "            preds = out.argmax(1)\n",
        "            correct += (preds == yb).sum().item()\n",
        "            n += Xb.size(0)\n",
        "            all_preds.append(preds.cpu().numpy())\n",
        "            all_targets.append(yb.cpu().numpy())\n",
        "    avg_loss = loss_sum / max(1, n)\n",
        "    acc = correct / max(1, n)\n",
        "    return avg_loss, acc, np.concatenate(all_targets), np.concatenate(all_preds)\n",
        "\n",
        "best_val_acc, best_state = 0.0, None\n",
        "for epoch in range(1, EPOCHS+1):\n",
        "    model.train()\n",
        "    pbar = tqdm(train_loader, desc=f\"Epoch {epoch}/{EPOCHS} [train]\")\n",
        "    running = 0.0; seen = 0\n",
        "    for Xb, yb in pbar:\n",
        "        Xb, yb = Xb.to(DEVICE), yb.to(DEVICE)\n",
        "        optimizer.zero_grad()\n",
        "        out = model(Xb)\n",
        "        loss = criterion(out, yb)\n",
        "        loss.backward()\n",
        "        optimizer.step()\n",
        "        running += loss.item() * Xb.size(0)\n",
        "        seen += Xb.size(0)\n",
        "        pbar.set_postfix(loss=f\"{running/max(1,seen):.4f}\")\n",
        "    val_loss, val_acc, _, _ = evaluate(val_loader)\n",
        "    print(f\"  -> val_loss: {val_loss:.4f} | val_acc: {val_acc:.4f}\")\n",
        "\n",
        "    if val_acc > best_val_acc:\n",
        "        best_val_acc = val_acc\n",
        "        best_state = {k: v.cpu().clone() for k, v in model.state_dict().items()}\n",
        "\n",
        "# best 모델 로드\n",
        "if best_state is not None:\n",
        "    model.load_state_dict(best_state)\n",
        "    model.to(DEVICE)"
      ],
      "metadata": {
        "colab": {
          "base_uri": "https://localhost:8080/"
        },
        "id": "F581nNkhOJb3",
        "outputId": "652caef5-cd8e-48da-94df-fd28621b330f"
      },
      "execution_count": 34,
      "outputs": [
        {
          "output_type": "stream",
          "name": "stderr",
          "text": [
            "Epoch 1/12 [train]: 100%|██████████| 31/31 [00:00<00:00, 43.03it/s, loss=0.7977]\n"
          ]
        },
        {
          "output_type": "stream",
          "name": "stdout",
          "text": [
            "  -> val_loss: 2.2220 | val_acc: 0.5818\n"
          ]
        },
        {
          "output_type": "stream",
          "name": "stderr",
          "text": [
            "Epoch 2/12 [train]: 100%|██████████| 31/31 [00:00<00:00, 51.39it/s, loss=0.3299]\n"
          ]
        },
        {
          "output_type": "stream",
          "name": "stdout",
          "text": [
            "  -> val_loss: 1.5546 | val_acc: 0.6322\n"
          ]
        },
        {
          "output_type": "stream",
          "name": "stderr",
          "text": [
            "Epoch 3/12 [train]: 100%|██████████| 31/31 [00:00<00:00, 54.58it/s, loss=0.1873]\n"
          ]
        },
        {
          "output_type": "stream",
          "name": "stdout",
          "text": [
            "  -> val_loss: 1.1553 | val_acc: 0.6113\n"
          ]
        },
        {
          "output_type": "stream",
          "name": "stderr",
          "text": [
            "Epoch 4/12 [train]: 100%|██████████| 31/31 [00:00<00:00, 70.81it/s, loss=0.1292]\n"
          ]
        },
        {
          "output_type": "stream",
          "name": "stdout",
          "text": [
            "  -> val_loss: 0.9943 | val_acc: 0.7761\n"
          ]
        },
        {
          "output_type": "stream",
          "name": "stderr",
          "text": [
            "Epoch 5/12 [train]: 100%|██████████| 31/31 [00:00<00:00, 67.79it/s, loss=0.0827]\n"
          ]
        },
        {
          "output_type": "stream",
          "name": "stdout",
          "text": [
            "  -> val_loss: 1.0957 | val_acc: 0.7319\n"
          ]
        },
        {
          "output_type": "stream",
          "name": "stderr",
          "text": [
            "Epoch 6/12 [train]: 100%|██████████| 31/31 [00:00<00:00, 71.16it/s, loss=0.0821]\n"
          ]
        },
        {
          "output_type": "stream",
          "name": "stdout",
          "text": [
            "  -> val_loss: 1.2517 | val_acc: 0.6593\n"
          ]
        },
        {
          "output_type": "stream",
          "name": "stderr",
          "text": [
            "Epoch 7/12 [train]: 100%|██████████| 31/31 [00:00<00:00, 69.62it/s, loss=0.0737]\n"
          ]
        },
        {
          "output_type": "stream",
          "name": "stdout",
          "text": [
            "  -> val_loss: 2.0869 | val_acc: 0.6531\n"
          ]
        },
        {
          "output_type": "stream",
          "name": "stderr",
          "text": [
            "Epoch 8/12 [train]: 100%|██████████| 31/31 [00:00<00:00, 68.34it/s, loss=0.0486]\n"
          ]
        },
        {
          "output_type": "stream",
          "name": "stdout",
          "text": [
            "  -> val_loss: 2.0269 | val_acc: 0.5658\n"
          ]
        },
        {
          "output_type": "stream",
          "name": "stderr",
          "text": [
            "Epoch 9/12 [train]: 100%|██████████| 31/31 [00:00<00:00, 65.02it/s, loss=0.0364]\n"
          ]
        },
        {
          "output_type": "stream",
          "name": "stdout",
          "text": [
            "  -> val_loss: 2.0121 | val_acc: 0.6175\n"
          ]
        },
        {
          "output_type": "stream",
          "name": "stderr",
          "text": [
            "Epoch 10/12 [train]: 100%|██████████| 31/31 [00:00<00:00, 69.34it/s, loss=0.0257]\n"
          ]
        },
        {
          "output_type": "stream",
          "name": "stdout",
          "text": [
            "  -> val_loss: 1.3373 | val_acc: 0.6568\n"
          ]
        },
        {
          "output_type": "stream",
          "name": "stderr",
          "text": [
            "Epoch 11/12 [train]: 100%|██████████| 31/31 [00:00<00:00, 69.90it/s, loss=0.0277]\n"
          ]
        },
        {
          "output_type": "stream",
          "name": "stdout",
          "text": [
            "  -> val_loss: 1.3320 | val_acc: 0.6790\n"
          ]
        },
        {
          "output_type": "stream",
          "name": "stderr",
          "text": [
            "Epoch 12/12 [train]: 100%|██████████| 31/31 [00:00<00:00, 68.13it/s, loss=0.0204]\n"
          ]
        },
        {
          "output_type": "stream",
          "name": "stdout",
          "text": [
            "  -> val_loss: 1.6618 | val_acc: 0.6494\n"
          ]
        }
      ]
    },
    {
      "cell_type": "code",
      "source": [
        "# ----------------------------\n",
        "# 9) 테스트 평가\n",
        "# ----------------------------\n",
        "test_loss, test_acc, y_true, y_pred = evaluate(test_loader)\n",
        "print(f\"[TEST] loss: {test_loss:.4f} | acc: {test_acc:.4f}\")\n",
        "\n",
        "print(\"\\n[Classification Report]\")\n",
        "print(classification_report(y_true, y_pred, target_names=list(le.classes_), digits=4))\n",
        "\n",
        "cm = confusion_matrix(y_true, y_pred)\n",
        "plt.figure(figsize=(8,6))\n",
        "sns.heatmap(cm, annot=True, fmt=\"d\",\n",
        "            xticklabels=le.classes_, yticklabels=le.classes_)\n",
        "plt.xlabel(\"Predicted\"); plt.ylabel(\"True\"); plt.title(\"Confusion Matrix (Test)\")\n",
        "plt.tight_layout()\n",
        "plt.show()"
      ],
      "metadata": {
        "colab": {
          "base_uri": "https://localhost:8080/",
          "height": 784
        },
        "id": "O-pm-KiPONfY",
        "outputId": "52b03ccb-1924-4d40-c251-5fb8417de4cb"
      },
      "execution_count": 35,
      "outputs": [
        {
          "output_type": "stream",
          "name": "stdout",
          "text": [
            "[TEST] loss: 0.3993 | acc: 0.8637\n",
            "\n",
            "[Classification Report]\n",
            "              precision    recall  f1-score   support\n",
            "\n",
            "  Downstairs     0.6212    0.5125    0.5616       160\n",
            "     Jogging     0.9641    0.9035    0.9328       653\n",
            "     Sitting     1.0000    0.8866    0.9399        97\n",
            "    Standing     1.0000    1.0000    1.0000        85\n",
            "    Upstairs     0.5880    0.7427    0.6563       171\n",
            "     Walking     0.8712    0.9055    0.8880       889\n",
            "\n",
            "    accuracy                         0.8637      2055\n",
            "   macro avg     0.8407    0.8251    0.8298      2055\n",
            "weighted avg     0.8691    0.8637    0.8646      2055\n",
            "\n"
          ]
        },
        {
          "output_type": "display_data",
          "data": {
            "text/plain": [
              "<Figure size 800x600 with 2 Axes>"
            ],
            "image/png": "[encoded data removed]"
          },
          "metadata": {}
        }
      ]
    },
    {
      "cell_type": "code",
      "source": [
        "# ----------------------------\n",
        "# 10) 예측 함수 예시\n",
        "# ----------------------------\n",
        "def predict_windows(np_array_3xT: np.ndarray, batch_size=256):\n",
        "    \"\"\"\n",
        "    입력: (N, 3, T) 혹은 (3, T)\n",
        "    출력: 클래스 인덱스 배열 및 확률\n",
        "    \"\"\"\n",
        "    model.eval()\n",
        "    if np_array_3xT.ndim == 2:\n",
        "        np_array_3xT = np_array_3xT[None, ...]\n",
        "    Xn = transform_with_scaler(np_array_3xT.astype(np.float32), scaler)\n",
        "    X_tensor = torch.from_numpy(Xn)\n",
        "    preds_all, probs_all = [], []\n",
        "    with torch.no_grad():\n",
        "        for i in range(0, len(X_tensor), batch_size):\n",
        "            xb = X_tensor[i:i+batch_size].to(DEVICE)\n",
        "            out = model(xb)\n",
        "            prob = nn.Softmax(dim=1)(out)\n",
        "            pred = out.argmax(1).cpu().numpy()\n",
        "            preds_all.append(pred)\n",
        "            probs_all.append(prob.cpu().numpy())\n",
        "    preds_all = np.concatenate(preds_all)\n",
        "    probs_all = np.concatenate(probs_all)\n",
        "    return preds_all, probs_all\n",
        "\n",
        "print(\"\\n라벨 인덱스→이름 매핑:\", {i: name for i, name in enumerate(le.classes_)})"
      ],
      "metadata": {
        "colab": {
          "base_uri": "https://localhost:8080/"
        },
        "id": "ZRxgkhtTOP8p",
        "outputId": "efe318de-9f94-43de-8b61-94dd1bd4276a"
      },
      "execution_count": 36,
      "outputs": [
        {
          "output_type": "stream",
          "name": "stdout",
          "text": [
            "\n",
            "라벨 인덱스→이름 매핑: {0: 'Downstairs', 1: 'Jogging', 2: 'Sitting', 3: 'Standing', 4: 'Upstairs', 5: 'Walking'}\n"
          ]
        }
      ]
    }
  ]
}